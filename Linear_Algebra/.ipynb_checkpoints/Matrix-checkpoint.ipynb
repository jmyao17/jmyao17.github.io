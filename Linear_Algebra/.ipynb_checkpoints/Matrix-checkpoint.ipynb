{
 "cells": [
  {
   "cell_type": "markdown",
   "metadata": {},
   "source": [
    "# Eigen vector and eigen value\n",
    "\n",
    "For a given matrix $H$, if there is a vector $V$\n",
    "$$\n",
    "H V = \\lambda V\n",
    "$$,\n",
    "\n",
    "where $\\lambda$ is a constant, then the vector $V$ is called the eigen vector of the matrix $H$, and the $\\lambda$ is the eigenvalue. "
   ]
  },
  {
   "cell_type": "markdown",
   "metadata": {},
   "source": [
    "# Space and basis\n",
    "\n",
    "\n",
    "Suppose an arbitray vector $V$ defined within a space of dimension $n$, formed by a set of orthogonormal basis vectors $\\{V_1, V_2, \\cdots, V_n\\}$, which are the eigenvectors of the matrix $H$,\n",
    "\n",
    "$$\n",
    "HV_n = \\lambda_n V_n, \\quad \\lambda_1 > \\lambda_2 > \\cdots > \\lambda_n,\n",
    "$$\n",
    "\n",
    "then\n",
    "\n",
    "$$\n",
    "V = \\sum_n c_n V_n, \\quad V^T_n V_{n'} = \\delta_{nn'}\n",
    "$$"
   ]
  },
  {
   "cell_type": "markdown",
   "metadata": {},
   "source": [
    "# Obtain the eigenvalue of the dominant eigenvector (component)\n",
    "\n",
    "\n",
    "If one keep multiplying the arbitrary vector $V$ with the matrix $H$ many times,\n",
    "\n",
    "$$\n",
    "H^m V = H^m \\sum_nc_n V_n = \\sum_nc_n \\lambda^m_n V_n.\n",
    "$$\n",
    "\n",
    "The above expression indicates that each component (eiven vectors) $V_n$ in the $V$ is scaled with the eigenvalue $\\lambda^m_n$. For simplicity, we define $U^{(m)} = H^m V$. If one normalized the  $U^{(m)}$,\n",
    "\n",
    "$$\n",
    "\\widetilde U^{(m)} = \\dfrac{U^{(m)}}{U^{(m)T} U^{(m)}}\n",
    "= \\dfrac{\\sum_nc_n \\lambda^m_n V_n}{\\sum_{nn'}c^\\ast_nc_{n'} \\lambda^m_{n'} V^T_{n'}  \\lambda^m_n V_n}\n",
    "=\\dfrac{\\sum_nc_n \\lambda^m_n V_n}{\\sum_{nn'} |c_n|^2 \\lambda^{2m}_{n} }\n",
    "=\\dfrac{\\sum_nc_n (\\lambda_n/\\lambda_1)^m }{\\sum_{nn'} |c_n|^2 (\\lambda_n/\\lambda_1)^m }V_n.\n",
    "$$\n",
    "\n",
    "Since $\\lambda_n/\\lambda_1=1$ for $n=1$ and $<1$ for $n\\ne 1$, as long as $m$ is sufficient large, one has\n",
    "\n",
    "$$\n",
    "\\widetilde U^{(m)} \\sim \\dfrac{c_1  }{ |c_1|^2}V_1.\n",
    "$$\n"
   ]
  },
  {
   "cell_type": "markdown",
   "metadata": {},
   "source": [
    "# Application in physics\n",
    "\n",
    "\n",
    "\n",
    "In physics, many methods are baed on the above idea to get the ground state of systems, including imaginary time evolution.\n",
    "\n",
    "Starting from a trivial wave function $\\vert\\Psi\\rangle$ which is not orthongonal to the groud state, then one can always expand this wave function in terms of the eigenvectors of the Hamiltonian $H$,\n",
    "$$\n",
    "\\vert\\Psi\\rangle = \\sum_n c_n \\vert \\Phi_n\\rangle,\\quad H \\vert \\Phi_n\\rangle = E_n \\vert \\Phi_n\\rangle,\n",
    "$$\n",
    "\n",
    "Applying the following operator onto the initial wave function can bring us to the ground state\n",
    "$$\n",
    "e^{-H\\tau} \\vert \\Psi\\rangle = \\sum_n \\dfrac{(-H\\tau)^n}{n!}\\vert \\Psi\\rangle \\to \\vert \\Phi_1\\rangle.\n",
    "$$"
   ]
  },
  {
   "cell_type": "code",
   "execution_count": null,
   "metadata": {},
   "outputs": [],
   "source": []
  }
 ],
 "metadata": {
  "kernelspec": {
   "display_name": "Python 3",
   "language": "python",
   "name": "python3"
  },
  "language_info": {
   "codemirror_mode": {
    "name": "ipython",
    "version": 3
   },
   "file_extension": ".py",
   "mimetype": "text/x-python",
   "name": "python",
   "nbconvert_exporter": "python",
   "pygments_lexer": "ipython3",
   "version": "3.6.5"
  },
  "toc": {
   "base_numbering": 1,
   "nav_menu": {},
   "number_sections": true,
   "sideBar": true,
   "skip_h1_title": false,
   "title_cell": "Table of Contents",
   "title_sidebar": "Contents",
   "toc_cell": false,
   "toc_position": {},
   "toc_section_display": true,
   "toc_window_display": false
  },
  "varInspector": {
   "cols": {
    "lenName": 16,
    "lenType": 16,
    "lenVar": 40
   },
   "kernels_config": {
    "python": {
     "delete_cmd_postfix": "",
     "delete_cmd_prefix": "del ",
     "library": "var_list.py",
     "varRefreshCmd": "print(var_dic_list())"
    },
    "r": {
     "delete_cmd_postfix": ") ",
     "delete_cmd_prefix": "rm(",
     "library": "var_list.r",
     "varRefreshCmd": "cat(var_dic_list()) "
    }
   },
   "types_to_exclude": [
    "module",
    "function",
    "builtin_function_or_method",
    "instance",
    "_Feature"
   ],
   "window_display": false
  }
 },
 "nbformat": 4,
 "nbformat_minor": 2
}
