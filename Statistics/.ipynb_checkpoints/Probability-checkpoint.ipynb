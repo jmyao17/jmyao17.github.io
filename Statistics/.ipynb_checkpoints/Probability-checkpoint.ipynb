{
 "cells": [
  {
   "cell_type": "markdown",
   "metadata": {},
   "source": [
    "<a href=\"https://jmyao17.github.io\"> Home</a>"
   ]
  },
  {
   "cell_type": "markdown",
   "metadata": {
    "slideshow": {
     "slide_type": "slide"
    }
   },
   "source": [
    "# Introduction to probability\n",
    "\n",
    "<img src=\"images/Data_Science_From_Scratch.jpg\" width=200><img src=\"images/Statistical_Learning.jpg\" width=200>"
   ]
  },
  {
   "cell_type": "markdown",
   "metadata": {
    "slideshow": {
     "slide_type": "slide"
    }
   },
   "source": [
    "## Probability \n",
    "\n",
    "It is a measure of likeliness that an event will occur.\n",
    "The probability that event A occurs is denoted by P(A) or Pr(A)."
   ]
  },
  {
   "cell_type": "markdown",
   "metadata": {
    "slideshow": {
     "slide_type": "fragment"
    }
   },
   "source": [
    "Probability axioms:\n",
    "\n",
    "- Non-negative:\n",
    "\n",
    "$$\n",
    "0  \\leq P(E)\\leq  1\\quad, \\forall E \\in \\{events\\} \n",
    "$$\n",
    "\n",
    "- Unitarity: For entire sample space $\\Omega$\n",
    "\n",
    "$$\n",
    "P(\\Omega) = 1\n",
    "$$\n",
    "\n",
    "- additive law:\n",
    "\n",
    "$$\n",
    " P(A \\cup B) = P(A) + P(B) - P(A \\cap B) \n",
    "$$\n"
   ]
  },
  {
   "cell_type": "markdown",
   "metadata": {
    "slideshow": {
     "slide_type": "slide"
    }
   },
   "source": [
    "\n",
    "## Independence\n",
    "\n",
    "The probability of two independent events $E$ and $F$ (flip coins) happening is given by \n",
    "\n",
    "$$\n",
    "P(E, F) = P(E) * P(F)\n",
    "$$\n"
   ]
  },
  {
   "cell_type": "markdown",
   "metadata": {
    "slideshow": {
     "slide_type": "slide"
    }
   },
   "source": [
    "\n",
    "## Dependence and conditional probability\n",
    "\n",
    "Given that the event $F$ happens, the probability of the event $E$ happens reads\n",
    "\n",
    "$$\n",
    "P(E, F) = P(E|F) * P(F) \\neq P(E) * P(F)\n",
    "$$\n",
    "\n",
    "where the $P(E|Y)$ is the probability of $E$, ***\"conditional on $F$\"***  ."
   ]
  },
  {
   "cell_type": "markdown",
   "metadata": {
    "slideshow": {
     "slide_type": "slide"
    }
   },
   "source": [
    "\n",
    "## Bayes\n",
    "\n",
    "Based on the fact \n",
    "$$\n",
    "P(E, F) = P(F, E),\n",
    "$$\n",
    "one finds the relation\n",
    "$$\n",
    "P(E|F) * P(F) = P(F|E) * P(E)\n",
    "$$\n",
    "which can be rewritten as\n",
    "\n",
    "\\begin{align}\n",
    "P(E|F) \n",
    "&= \\dfrac{P(F|E) * P(E)}{P(F)} \\nonumber\\\\\n",
    "&= \\dfrac{P(F|E) * P(E)}{P(F|E)*P(E) + P(F|\\bar E)*P(\\bar E)},\n",
    "\\end{align}\n",
    "\n",
    "with $P(\\bar E) = 1 - P(E)$."
   ]
  },
  {
   "cell_type": "markdown",
   "metadata": {
    "slideshow": {
     "slide_type": "slide"
    }
   },
   "source": [
    "## Probability density (mass) function (pdf)\n",
    "\n",
    "The probability of the random variable falling within a particular range of values. This probability is given by the integral of this variable’s pdf over that range.\n",
    "\n",
    "The standard **normal distribution** has probability density: \n",
    "$$\n",
    "f(x) = \\frac{1}{\\sqrt{2\\pi}\\sigma}\\; e^{-(x-\\mu)^2/(2\\sigma^2)}.\n",
    "$$\n"
   ]
  },
  {
   "cell_type": "markdown",
   "metadata": {
    "slideshow": {
     "slide_type": "fragment"
    }
   },
   "source": [
    "The $f(x)$ should satisfy:\n",
    "\n",
    "$$\n",
    "f(x)\\ge0,\\quad \\int f(x) dx =1.\n",
    "$$\n",
    "\n",
    "$$\n",
    "P(a\\leq x \\leq b) = \\int^b_a f(x)dx\n",
    "$$"
   ]
  },
  {
   "cell_type": "markdown",
   "metadata": {
    "slideshow": {
     "slide_type": "slide"
    }
   },
   "source": [
    "## Cumulative density function (cdf)\n",
    "\n",
    "The probability of the $X$ taking a value less than or equal to $x$\n",
    "\n",
    "$$\n",
    "F_X(x) = P(X\\leq x)=\\int^x_{-\\infty} f_X(t)dt\n",
    "$$"
   ]
  },
  {
   "cell_type": "markdown",
   "metadata": {
    "slideshow": {
     "slide_type": "slide"
    }
   },
   "source": [
    "## Mean, variance and standard deviation\n",
    "\n",
    "\n",
    "If a random variable $x$ is given and its distribution admits a probability density function $f(x)$, then the expected (mean) value of $x$ (if the expected value exists) can be calculated as\n",
    "$$\n",
    "    \\operatorname{E}[x] = \\int_{-\\infty}^\\infty x\\,f(x)\\,dx.\n",
    "$$\n",
    "\n",
    "- $E[c*x]$ = $c*E[x]$\n",
    "- $E[x+b]$ = $E[x]+b$"
   ]
  },
  {
   "cell_type": "markdown",
   "metadata": {
    "slideshow": {
     "slide_type": "slide"
    }
   },
   "source": [
    "The **variance** of the random variable $X$ is defined as\n",
    "$$\n",
    "V[x] = E[(x-E[x])^2] = E[x^2]-E^2[x]\n",
    "$$\n",
    "- $V[c]$=$0$\n",
    "- $V[x$+$c]$=$V[x]$\n",
    "- $V[c$*$x]$=$c^2V[x]$\n",
    "\n",
    "where $c$ is a constant.\n",
    "\n",
    "The **standard deviation** is defined as \n",
    "$$\n",
    "D[x] = \\sqrt{V[x]}.\n",
    "$$"
   ]
  },
  {
   "cell_type": "markdown",
   "metadata": {
    "slideshow": {
     "slide_type": "slide"
    }
   },
   "source": [
    "## The skewness and kurtosis\n",
    "\n",
    "\n",
    "- skewness: $E[(x-E[x])^3]/D^3[x]$\n",
    "- kurtosis: $E[(x-E[x])^4]/D^4[x]-3$, where $-3$ is introduced so that the kurtosis of the normal distribution is zero.\n",
    "\n",
    "The $k$-th moments\n",
    "$$\n",
    "\\nu_k = E[(x-E[x])^k]\n",
    "$$\n",
    "$$\n",
    "\\mu_k = E[x^k]\n",
    "$$"
   ]
  },
  {
   "cell_type": "markdown",
   "metadata": {
    "slideshow": {
     "slide_type": "slide"
    }
   },
   "source": [
    "## The moment-generating function\n",
    "\n",
    "$$\n",
    "M_x(t) = E[e^{tx}]=\\sum_x e^{tx}f(x),\n",
    "$$\n",
    "where\n",
    "$$\n",
    "e^{tx} = 1 + tx + \\dfrac{t^2x^2}{2!}+\\cdots\n",
    "$$\n",
    "one can prove that $\\dfrac{d^{(k)}}{d^k t}M_x(t)\\vert_{t=0}=\\mu_k$, from which one finds\n",
    "\n",
    "- mean $E[X]=\\mu_1$\n",
    "- variance $V[X]=E[X^2]-E^2[X]=\\mu_2-\\mu^2_1$"
   ]
  },
  {
   "cell_type": "markdown",
   "metadata": {
    "slideshow": {
     "slide_type": "slide"
    }
   },
   "source": [
    "## The central limit theorem\n",
    "\n",
    "\n",
    "The central limit theorem states that when an infinite number of successive random samples are taken from a population, the sampling distribution of the means of those samples will become approximately normally distributed with mean $\\mu$ and standard deviation $\\sigma/\\sqrt{N}$ as the sample size (N) becomes larger, irrespective of the shape of the population distribution.\n"
   ]
  },
  {
   "cell_type": "code",
   "execution_count": 2,
   "metadata": {
    "slideshow": {
     "slide_type": "slide"
    }
   },
   "outputs": [],
   "source": [
    "import matplotlib.pyplot as plt\n",
    "from scipy.stats import norm\n",
    "import numpy as np\n",
    "import collections"
   ]
  },
  {
   "cell_type": "markdown",
   "metadata": {
    "slideshow": {
     "slide_type": "slide"
    }
   },
   "source": [
    "## An example: Binomial distribution \n",
    "\n",
    "1. **Binomial distribution**: the discrete probability distribution of the number of successes in a sequence of $n$ independent experiments, each asking a yes–no question with outcome of a random variable containing a single bit of information: success/yes/true/one (with probability $p$) or failure/no/false/zero (with probability $q = 1 − p$).\n"
   ]
  },
  {
   "cell_type": "markdown",
   "metadata": {
    "slideshow": {
     "slide_type": "slide"
    }
   },
   "source": [
    "\n",
    "2. For $n=1$ (a single success/failure experiment) case, the **Binomial distribution** is simplified to be **Bernoulli distribution**. If $X$ is a random variable with this distribution, then:\n",
    "\n",
    "$$\n",
    "\\Pr(X=1) = p = 1 - \\Pr(X=0) = 1 - q.\n",
    "$$\n",
    "\n",
    "- The ***pdf*** of this distribution over possible outcomes $X=k$, is\n",
    "\n",
    "$$ f(k, p) \n",
    "    = \\begin{cases}\n",
    "   p & \\text{if }k=1, \\\\\n",
    "   q = 1-p & \\text {if } k = 0.\n",
    " \\end{cases}\n",
    "$$\n",
    "- The mean $\\mu_1=E[X]=p$ and the standard deviation \n",
    "$$\n",
    "V[X] = E[X^2]-E^2[X] = E[X^2] - \\mu^2 = \\sum_{k=0,1} f(k, p)\\cdot k^2 -p^2 =  p - p^2 = p(1-p).\n",
    "$$"
   ]
  },
  {
   "cell_type": "markdown",
   "metadata": {
    "slideshow": {
     "slide_type": "slide"
    }
   },
   "source": [
    "\n",
    "3. Considering a set of binomially distributed $n$ random variables $\\{X_1, X_2,\\cdot, X_n\\}$, denoted as $X\\sim B(n,p)$. Each variable $X_i$ has the $p$ probability of taking the value 1 and $q=1-p$ probability of taking the value 0.\n",
    "\n",
    "Note: $\\{X_1, X_2,\\cdot, X_n\\}$ are $n$ independent variables and thus\n",
    "\n",
    "<math> \\begin{align}\n",
    "E[X] = E[\\sum_i X_i] = \\sum_i E[X_i], \\\\\n",
    "V [X] = V [\\sum_i X_i] = \\sum_i V[X_i].\n",
    "\\end{align}</math>\n"
   ]
  },
  {
   "cell_type": "markdown",
   "metadata": {
    "slideshow": {
     "slide_type": "slide"
    }
   },
   "source": [
    "\n",
    "- The mean of the $n$ random variables is \n",
    "\n",
    "\\begin{eqnarray} \n",
    "\\mu_1  = E[X] \\equiv \\dfrac{1}{n}\\sum^n_i X_i\n",
    " = \\sum^n_{k=0} k \\cdot f(k, n, p)\n",
    "\\end{eqnarray}\n",
    "where the probability of getting exactly $k$ successes ($X=1$) in n trials is given by the probability mass function\n",
    "$$\n",
    "f(k, n, p) = C^k_n p^k (1-p)^{n-k}. \\quad \n",
    "$$ \n"
   ]
  },
  {
   "cell_type": "markdown",
   "metadata": {
    "slideshow": {
     "slide_type": "slide"
    }
   },
   "source": [
    "\n",
    "<math>\\begin{align}\n",
    " \\mu &= \\sum_{k=0}^n k f(k)=\\sum_{k=0}^n k\\binom nk p^k (1-p)^{n-k}\\\\\n",
    "                     &= \\sum_{k=0}^n k\\frac{n(n-1)!}{(n-k)!k!}p\\cdot p^{k-1} (1-p)^{(n-1)-(k-1)}\\\\\n",
    "                     &= np\\sum_{k=1}^n \\frac{(n-1)!}{((n-1)-(k-1))!(k-1)!}p^{k-1} (1-p)^{(n-1)-(k-1)}\\\\ \n",
    "                     &= np\\sum_{\\ell=0}^{n-1} \\binom{n-1}\\ell p^\\ell (1-p)^{(n-1)-\\ell} && \\text{with } \\ell:=k-1\\\\ \n",
    "                     &= np(p+(1-p))^m \\\\\n",
    "                     &=np\n",
    "\\end{align}  </math>\n",
    " \n"
   ]
  },
  {
   "cell_type": "markdown",
   "metadata": {
    "slideshow": {
     "slide_type": "slide"
    }
   },
   "source": [
    "The above relation can be derived in a simpler way as\n",
    "$$\n",
    " \\mu = E[X] = E[X_1+X_2+\\cdot+X_n]= \\sum^n_{i=1}E[X_i]=np.\n",
    "$$\n",
    "\n",
    "- The standard deviation of binomially distributed variables reads\n",
    "\n",
    "\\begin{align}\n",
    "V[X] \\equiv  E[X^2] - E^2[X] \n",
    "  = \\sum^n_{i=1} (E[X^2_i] -E^2[X_i])\n",
    " &=\\sum^n_{i=1} V[X_i] \\nonumber\\\\\n",
    " &= \\sum^n_{i=1}  p(1-p)\\nonumber\\\\\n",
    " &=np(1-p).\n",
    "\\end{align}"
   ]
  },
  {
   "cell_type": "markdown",
   "metadata": {
    "slideshow": {
     "slide_type": "slide"
    }
   },
   "source": [
    "The moment-generating function $M_x(t)$ of $B(n,p)$ can be obtained by using the binomial theorem,\n",
    "\n",
    "$$\n",
    "M_x(t) = \\sum_x e^{tx}f(x)\n",
    "=\\sum^n_{x=0} e^{tx} C^x_n p^x q^{n-x}\n",
    "=\\sum^n_{x=0}  C^x_n  (pe^{t})^x q^{n-x}\n",
    "=(pe^t+q)^n.\n",
    "$$\n",
    "The mean and variance are simply given by\n",
    "- $E[X]=\\mu_1=M^{(1)}(t)\\vert_{t=0}=n(pe^t+q)^{n-1}p\\vert_{t=0}=np$\n",
    "- $V[X]=\\mu_2-\\mu^2_1=n(n-1)p^2+np -n^2p^2 = np-np^2 = np(1-p)=npq$, \n",
    "\n",
    "where \n",
    "$$\n",
    "\\mu_2=M^{(2)}(t)\\vert_{t=0}=n(n-1)p^2+np\n",
    "$$"
   ]
  },
  {
   "cell_type": "code",
   "execution_count": 33,
   "metadata": {
    "slideshow": {
     "slide_type": "slide"
    }
   },
   "outputs": [],
   "source": [
    "# =1 with probability p \n",
    "# =0 with probability (1-p)\n",
    "# use the np.random.random() to return random floats in the half-open interval [0.0, 1.0)\n",
    "def bernoulli_trial(p):\n",
    "    return 1 if np.random.random()<p else 0\n",
    "\n",
    "# sum over the x values for each 100 times:\n",
    "# binomial(n,p) returns the sum^100_i x_i, where x_i=1 or 0.\n",
    "def binomial(n,p):\n",
    "    return sum(bernoulli_trial(p) for _ in range(n)) # generate n numbers of data; use _ to ignore the index\n",
    "\n",
    "def make_hist(p,n,num_points):\n",
    "    # data collects the frequencies (/number_points) of occuring values obtained from binomial(n,p)\n",
    "    data = [binomial(n,p) for _ in range(num_points)]  \n",
    "    histogram = collections.Counter(data)\n",
    "    print(len(data))\n",
    "    plt.bar([x-0.4 for x in histogram.keys()],\n",
    "           [v/num_points for v in histogram.values()])\n",
    "\n",
    "    z = np.linspace(norm.ppf(0.0001), norm.ppf(0.99999), 100) # Percent point function (inverse of cdf — percentiles).\n",
    "    fz  = norm.pdf(z)\n",
    "    mu  = n*p\n",
    "    sig2 = n*p*(1.0-p) \n",
    "    x   = np.array(np.sqrt(sig2)*z+mu)\n",
    "    fx  = fz/np.sqrt(sig2) \n",
    "    plt.plot(x, fx,'r-', lw=5, alpha=0.6, label='norm pdf')"
   ]
  },
  {
   "cell_type": "code",
   "execution_count": 35,
   "metadata": {
    "slideshow": {
     "slide_type": "slide"
    }
   },
   "outputs": [
    {
     "name": "stdout",
     "output_type": "stream",
     "text": [
      "10000\n"
     ]
    },
    {
     "data": {
      "image/png": "[encoded data removed]",
      "text/plain": [
       "<Figure size 432x288 with 1 Axes>"
      ]
     },
     "metadata": {},
     "output_type": "display_data"
    }
   ],
   "source": [
    "make_hist(0.5,100,10000) # p=0.5, q=0.5, n=100"
   ]
  },
  {
   "cell_type": "code",
   "execution_count": 54,
   "metadata": {
    "slideshow": {
     "slide_type": "slide"
    }
   },
   "outputs": [],
   "source": [
    "def make_hist_abs(p,n,num_points):\n",
    "    data = [binomial(n,p) for _ in range(num_points)] # num_points of data\n",
    "    histogram = collections.Counter(data)\n",
    "    print(len(data))\n",
    "    plt.bar([x-0.4 for x in histogram.keys()],\n",
    "           [v for v in histogram.values()]) \n",
    "    "
   ]
  },
  {
   "cell_type": "code",
   "execution_count": 56,
   "metadata": {
    "slideshow": {
     "slide_type": "fragment"
    }
   },
   "outputs": [
    {
     "name": "stdout",
     "output_type": "stream",
     "text": [
      "10000\n"
     ]
    },
    {
     "data": {
      "image/png": "[encoded data removed]",
      "text/plain": [
       "<Figure size 432x288 with 1 Axes>"
      ]
     },
     "metadata": {},
     "output_type": "display_data"
    }
   ],
   "source": [
    "make_hist_abs(0.2,100,10000)"
   ]
  },
  {
   "cell_type": "code",
   "execution_count": 28,
   "metadata": {
    "slideshow": {
     "slide_type": "slide"
    }
   },
   "outputs": [
    {
     "data": {
      "text/plain": [
       "Text(0.5,0,'x')"
      ]
     },
     "execution_count": 28,
     "metadata": {},
     "output_type": "execute_result"
    },
    {
     "data": {
      "image/png": "[encoded data removed]",
      "text/plain": [
       "<Figure size 432x288 with 2 Axes>"
      ]
     },
     "metadata": {},
     "output_type": "display_data"
    }
   ],
   "source": [
    "fig,(ax1,ax2)= plt.subplots(2,1)\n",
    "x = np.linspace(norm.ppf(0.01), norm.ppf(0.99), 100) # Percent point function (inverse of cdf — percentiles).\n",
    "ax1.plot(x, norm.pdf(x),'r-', lw=5, alpha=0.6, label='norm pdf')\n",
    "ax1.set_ylabel('pdf',size=20)\n",
    "ax2.plot(x, norm.cdf(x))\n",
    "ax2.set_ylabel('cdf',size=20)\n",
    "ax2.set_xlabel('x',size=20)"
   ]
  },
  {
   "cell_type": "code",
   "execution_count": 51,
   "metadata": {
    "slideshow": {
     "slide_type": "slide"
    }
   },
   "outputs": [
    {
     "data": {
      "text/plain": [
       "(-4, 4)"
      ]
     },
     "execution_count": 51,
     "metadata": {},
     "output_type": "execute_result"
    },
    {
     "data": {
      "image/png": "[encoded data removed]",
      "text/plain": [
       "<Figure size 432x288 with 1 Axes>"
      ]
     },
     "metadata": {},
     "output_type": "display_data"
    }
   ],
   "source": [
    "xall = np.linspace(-10,10,100)\n",
    "x005 = np.linspace(norm.ppf(0.005), norm.ppf(0.995), 100) # Percent point function (inverse of cdf — percentiles).\n",
    "x025 = np.linspace(norm.ppf(0.025), norm.ppf(0.975), 100) # Percent point function (inverse of cdf — percentiles).\n",
    "x05 = np.linspace(norm.ppf(0.05), norm.ppf(0.95), 100) # Percent point function (inverse of cdf — percentiles).\n",
    "plt.plot(xall, norm.pdf(xall),'k-', lw=5, label='norm pdf')\n",
    "plt.fill_between(x005, norm.pdf(x005),0)  # 99%\n",
    "plt.fill_between(x025, norm.pdf(x025),0) # 95%\n",
    "plt.fill_between(x05, norm.pdf(x05),0) # 90%\n",
    "plt.xlim(-4,+4)"
   ]
  },
  {
   "cell_type": "code",
   "execution_count": 37,
   "metadata": {
    "slideshow": {
     "slide_type": "fragment"
    }
   },
   "outputs": [
    {
     "name": "stdout",
     "output_type": "stream",
     "text": [
      "[-2.5758293  -1.95996398 -1.64485363]\n"
     ]
    }
   ],
   "source": [
    "p=[0.005,0.025,0.05]\n",
    "z=norm.ppf(p)\n",
    "print(z)"
   ]
  },
  {
   "cell_type": "markdown",
   "metadata": {
    "slideshow": {
     "slide_type": "slide"
    }
   },
   "source": [
    "# Multi-dimensional distributions"
   ]
  },
  {
   "cell_type": "markdown",
   "metadata": {
    "slideshow": {
     "slide_type": "slide"
    }
   },
   "source": [
    "## Joint probability distribution\n",
    "\n",
    "- $f(x,y)\\geq0$\n",
    "- $\\sum_{x,y}f(x,y)=1$\n",
    "\n",
    "independence: $f(x,y)=g(x)*h(y)$."
   ]
  },
  {
   "cell_type": "markdown",
   "metadata": {
    "slideshow": {
     "slide_type": "slide"
    }
   },
   "source": [
    "## Marginal probability density functions\n",
    "\n",
    "$$\n",
    "g(x) = \\int dy f(x,y), \\\\\n",
    "h(y)=\\int dx f(x,y)\n",
    "$$"
   ]
  },
  {
   "cell_type": "markdown",
   "metadata": {
    "slideshow": {
     "slide_type": "slide"
    }
   },
   "source": [
    "## Conditional probability distribution\n",
    "\n",
    "$$\n",
    "g(x|y)=\\dfrac{f(x,y)}{h(y)}\n",
    "$$\n",
    "\n",
    "- mean: $E[x|y]=\\int x g(x|y) dx$\n",
    "- variance: $V[x|y]=E[(x-E[x|y])^2|y]$"
   ]
  },
  {
   "cell_type": "markdown",
   "metadata": {
    "slideshow": {
     "slide_type": "slide"
    }
   },
   "source": [
    "## Contigency table\n",
    "\n",
    "A contingency table summarizes information of multiple discrete random variables"
   ]
  },
  {
   "cell_type": "markdown",
   "metadata": {
    "slideshow": {
     "slide_type": "slide"
    }
   },
   "source": [
    "### Bayesian theorem\n",
    "\n",
    "The ***posterior probability*** ${\\rm Pr}(x|y)$ of $x$ is calculated by\n",
    "$$\n",
    "{\\rm Pr}(x|y)=\\dfrac{{\\rm Pr}(y|x)*{\\rm Pr}(x)}{{\\rm Pr}(y)}\n",
    "=\\dfrac{{\\rm Pr}(y|x)*{\\rm Pr}(x)}{{\\rm Pr}(y|x){\\rm Pr}(x)\n",
    "+{\\rm Pr}(y|\\bar x){\\rm Pr}(\\bar x)}\n",
    "$$\n",
    "where ${\\rm Pr}(x)$ is called ***prior probability*** of $x$, the probability of cause $x$ before effect $y$ is known.\n"
   ]
  },
  {
   "cell_type": "markdown",
   "metadata": {
    "slideshow": {
     "slide_type": "slide"
    }
   },
   "source": [
    "### Covariance and correlation\n",
    "\n",
    "$$\n",
    "V[x+y]=V[x]+V[y]+2{\\rm cov}[x,y]\n",
    "$$\n",
    "where ${\\rm cov}[x,y]$ is the covariance of $x$ and $y$\n",
    "$$\n",
    "{\\rm cov}[x,y] = E[x-E[x]]* E[y-E[y]]\n",
    "$$\n",
    "\n",
    "- positively correlated: ${\\rm cov}[x,y]>0$\n",
    "- negatively correlated: ${\\rm cov}[x,y]<0$\n",
    "- uncorrelated: ${\\rm cov}[x,y]\\sim 0$"
   ]
  },
  {
   "cell_type": "markdown",
   "metadata": {
    "slideshow": {
     "slide_type": "slide"
    }
   },
   "source": [
    "Generally, assuming $$\\mathbf{X}=(X_1, X_2, ... , X_n)^{\\mathrm T}$$\n",
    "are random variables, each with finite variance, then the **variance–covariance matrix** $\\operatorname{K}_{\\mathbf{X}\\mathbf{X}}$ is the matrix whose $(i,j)$ entry is the covariance:\n",
    "\n",
    "$$ \\operatorname{K}_{X_i X_j} = \\operatorname{cov}[X_i, X_j] = \\operatorname{E}[(X_i - \\operatorname{E}[X_i])(X_j - \\operatorname{E}[X_j])]\n",
    "$$\n",
    "where the operator  $\\operatorname{E}$ denotes the expected value (mean) of its argument.   \n"
   ]
  },
  {
   "cell_type": "markdown",
   "metadata": {
    "slideshow": {
     "slide_type": "slide"
    }
   },
   "source": [
    "For \n",
    "$$\\operatorname{K}_{\\mathbf{X}\\mathbf{X}}=\\operatorname{V}(\\mathbf{X}) = \\operatorname{E} \\left[ \\left( \\mathbf{X} - \\operatorname{E}[\\mathbf{X}] \\right) \\left( \\mathbf{X} - \\operatorname{E}[\\mathbf{X}] \\right)^{\\rm T} \\right]$$\n",
    "\n",
    "and   $\\mathbf{\\mu_X} = \\operatorname{E}$(\\textbf{X}), where $\\mathbf{X} = (X_1,\\ldots,X_n)$ is a $n$-dimensional random variable, the following basic properties apply \n",
    "\n",
    "$$\\operatorname{K}_{\\mathbf{X}\\mathbf{X}} = \\operatorname{E}(\\mathbf{X X^{\\rm T}}) - \\mathbf{\\mu_X}\\mathbf{\\mu_X}^{\\rm T} $$\n",
    " "
   ]
  },
  {
   "cell_type": "markdown",
   "metadata": {
    "slideshow": {
     "slide_type": "fragment"
    }
   },
   "source": [
    "The correlation coeffcient $\\rho_{x,y}$ between $x$ and $y$, \n",
    "$$\n",
    "\\rho_{x,y}=\\dfrac{K_{xy}}{\\sqrt{K_{xx}}\\cdot \\sqrt{K_{yy}}}=\\dfrac{K_{xy}}{D[x]\\cdot D[y]}\n",
    "$$"
   ]
  },
  {
   "cell_type": "markdown",
   "metadata": {
    "slideshow": {
     "slide_type": "slide"
    }
   },
   "source": [
    "## An example: $d$-sided dice \n",
    "\n",
    "with the probability of obtaining each side $\\mathbf{p} = (p_1, \\cdots, p_d )^T$,\n",
    " \n",
    "- $0\\leq p_i \\leq1$.\n",
    "- $\\sum^d_i p_i=1$\n"
   ]
  },
  {
   "cell_type": "markdown",
   "metadata": {
    "slideshow": {
     "slide_type": "slide"
    }
   },
   "source": [
    "\n",
    "Let $\\mathbf{x} = (x^{(1)},\\cdots, x^{(d)})^T$ be the number of times each side appears when the dice is thrown $n$ times, where\n",
    "\n",
    "$$\n",
    "\\sum_i x^{(i)} = n.\n",
    "$$\n",
    "The probability distribution that $x$ follows is the multinomial distribution and is denoted by **Mult(n, p)**\n",
    "\n",
    "$$\n",
    "f(\\mathbf{x}) =\\dfrac{n!}{x^{(1)}! x^{(2)}!\\cdots x^{(d)!}} p^{x^{(1)}}_1p^{x^{(2)}}_2\\cdots p^{x^{(d)}}_d\n",
    "$$\n",
    "\n",
    "When $d = 2$, **Mult(n, p)** is reduced to **Bi(n, $p_1$)**."
   ]
  },
  {
   "cell_type": "markdown",
   "metadata": {
    "slideshow": {
     "slide_type": "slide"
    }
   },
   "source": [
    "normalization:\n",
    "$$\n",
    "\\sum_{\\mathbf{x}} f(\\mathbf{x}) = (p_1+p_2+\\cdots p_d)^n = 1.\n",
    "$$\n",
    "\n",
    "moment-generating function of **Mult(n, p)**:\n",
    "$$\n",
    "M_{\\mathbf{x}}(t) = E[e^{\\mathbf{t}^T\\mathbf{x}}]=\\sum_{\\mathbf{x}} f(\\mathbf{x})e^{\\mathbf{t}^T\\mathbf{x}}\n",
    "=(p_1 e^{t_1}+p_2e^{t_2}+\\cdots+p_de^{t_d})^n.\n",
    "$$"
   ]
  },
  {
   "cell_type": "markdown",
   "metadata": {
    "slideshow": {
     "slide_type": "slide"
    }
   },
   "source": [
    "- Mean: $E[x^{(j)}]=np_j$\n",
    "- Covariance: \n",
    "\n",
    "$$\n",
    "{\\rm Cov}[x^{(i)}, x^{(j)}]\n",
    "=\\begin{cases}\n",
    "np_i(1-p_i), & i=j \\\\\n",
    "-np_ip_j, & i\\neq j\n",
    "\\end{cases}\n",
    "$$"
   ]
  },
  {
   "cell_type": "code",
   "execution_count": null,
   "metadata": {},
   "outputs": [],
   "source": []
  }
 ],
 "metadata": {
  "celltoolbar": "Slideshow",
  "kernelspec": {
   "display_name": "Python 3",
   "language": "python",
   "name": "python3"
  },
  "language_info": {
   "codemirror_mode": {
    "name": "ipython",
    "version": 3
   },
   "file_extension": ".py",
   "mimetype": "text/x-python",
   "name": "python",
   "nbconvert_exporter": "python",
   "pygments_lexer": "ipython3",
   "version": "3.6.5"
  },
  "latex_envs": {
   "LaTeX_envs_menu_present": true,
   "autoclose": false,
   "autocomplete": true,
   "bibliofile": "biblio.bib",
   "cite_by": "apalike",
   "current_citInitial": 1,
   "eqLabelWithNumbers": true,
   "eqNumInitial": 1,
   "hotkeys": {
    "equation": "Ctrl-E",
    "itemize": "Ctrl-I"
   },
   "labels_anchors": false,
   "latex_user_defs": false,
   "report_style_numbering": false,
   "user_envs_cfg": false
  },
  "toc": {
   "base_numbering": 1,
   "nav_menu": {},
   "number_sections": true,
   "sideBar": true,
   "skip_h1_title": false,
   "title_cell": "Table of Contents",
   "title_sidebar": "Contents",
   "toc_cell": false,
   "toc_position": {},
   "toc_section_display": true,
   "toc_window_display": false
  },
  "varInspector": {
   "cols": {
    "lenName": 16,
    "lenType": 16,
    "lenVar": 40
   },
   "kernels_config": {
    "python": {
     "delete_cmd_postfix": "",
     "delete_cmd_prefix": "del ",
     "library": "var_list.py",
     "varRefreshCmd": "print(var_dic_list())"
    },
    "r": {
     "delete_cmd_postfix": ") ",
     "delete_cmd_prefix": "rm(",
     "library": "var_list.r",
     "varRefreshCmd": "cat(var_dic_list()) "
    }
   },
   "types_to_exclude": [
    "module",
    "function",
    "builtin_function_or_method",
    "instance",
    "_Feature"
   ],
   "window_display": false
  }
 },
 "nbformat": 4,
 "nbformat_minor": 2
}
