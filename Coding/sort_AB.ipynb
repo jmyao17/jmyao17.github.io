{
 "cells": [
  {
   "cell_type": "markdown",
   "metadata": {},
   "source": [
    "# Problem\n",
    "\n",
    "Given two Lists (or arrays) A and B, all the elements in each A or B cannot be compared.\n",
    "Therefore, one cannot sort the elements in A and the elements in B in this case.\n",
    "\n",
    "However, one knows that one can compare each element in A with that in B with a function, **compare_function**,\n",
    "which returns -1, 0 or 1 if element in A is smaller, equal to, or larger than that in B.\n",
    "\n",
    "Besides, we know that the sorted A is identical to sorted B.\n",
    "\n",
    "Using the above information to sort A and B."
   ]
  },
  {
   "cell_type": "markdown",
   "metadata": {},
   "source": [
    "# Code\n",
    "\n",
    "\n",
    "## brute force"
   ]
  },
  {
   "cell_type": "code",
   "execution_count": 5,
   "metadata": {},
   "outputs": [],
   "source": [
    "class Solution(object):\n",
    "    \n",
    "    def Sort_List(self,ListA,ListB):\n",
    "        \n",
    "        \"\"\"\n",
    "        ListA=[a1,a2,a3,...]\n",
    "        ListB=[b1,b2,b3,...]\n",
    "        \"\"\"\n",
    "        \n",
    "        # define a function for the comparison\n",
    "        def compare_function(a,b):\n",
    "            if a>b:\n",
    "                return 1\n",
    "            elif a==b:\n",
    "                return 0\n",
    "            else:\n",
    "                return -1\n",
    "        \n",
    "        # Here I am going to use the brute-force method to sort the ListA and ListB.\n",
    "        # The time complexity will be O(n^2)\n",
    "        \n",
    "        # define two dictionaries\n",
    "        dic4A ={}\n",
    "        dic4B ={}\n",
    "        \n",
    "        for idxa,a in enumerate(ListA):\n",
    "            \n",
    "            # The dictionary dic4A is to count the numbers \n",
    "            # of elements in ListB which are smaller than each element in ListA\n",
    "            \n",
    "            dic4A[a] = 0\n",
    "            \n",
    "            for idxb,b in enumerate(ListB):\n",
    "                \n",
    "                if compare_function(a, b) == 1:\n",
    "                    dic4A[a] += 1 \n",
    "                    \n",
    "                elif compare_function(a, b)== 0:\n",
    "                    dic4B[a] = idxb       # record the a in the position of ListB\n",
    "                    \n",
    "        # Although all the a in ListA (namely, the key in dic4A) cannot be compared with each other,\n",
    "        # the value of the each key-value pair in the dic4A can be sorted.\n",
    "        # For simplicity, I use the python built-in function sorted() for this purpose,\n",
    "        # the time complexity is O(n log n)\n",
    "        sorted_dic4A = sorted(dic4A.items(), key=lambda x: x[1])\n",
    "        sorted_ListA = [x[0] for x in sorted_dic4A]\n",
    "        \n",
    "        \n",
    "        # sort the ListB based on the connection between ListA and ListB\n",
    "        sorted_ListB=[]\n",
    "        for i in range(0,len(ListB)):\n",
    "            \n",
    "            val_i  = sorted_dic4A[i][0]\n",
    "            idxb_i = dic4B[val_i] \n",
    "            sorted_ListB.append(ListB[idxb_i])\n",
    "            \n",
    "        \n",
    "        return sorted_ListA,sorted_ListB   "
   ]
  },
  {
   "cell_type": "markdown",
   "metadata": {},
   "source": [
    "## quick sort"
   ]
  },
  {
   "cell_type": "code",
   "execution_count": 12,
   "metadata": {},
   "outputs": [],
   "source": [
    "import random\n",
    "\n",
    "# define a function for the comparison\n",
    "def compare_function(a,b):\n",
    "    if a>b:\n",
    "        return 1\n",
    "    elif a==b:\n",
    "        return 0\n",
    "    else:\n",
    "        return -1\n",
    "            \n",
    "def partition(AB, p, r, i_ref):\n",
    "    (AB[i_ref], AB[r]) = (AB[r], AB[i_ref])\n",
    "    \n",
    "    ref = AB[r]\n",
    "    j = p - 1\n",
    "    \n",
    "    for i in range(p,r):\n",
    "        if compare_function(AB[i],ref)<=0:\n",
    "            j = j + 1\n",
    "            (AB[j], AB[i]) = (AB[i], AB[j])\n",
    "    (AB[j+1], AB[r]) = (AB[r], AB[j+1])\n",
    "    \n",
    "    return j+1\n",
    "\n",
    "def linked_partition(A,B,p,r):\n",
    "    i = random.randint(p,r)\n",
    "    \n",
    "    for j in range(p, r+1):\n",
    "        if compare_function(A[i],B[j]) ==0:\n",
    "            (B[j], B[i]) = (B[i], B[j])\n",
    "            return i\n",
    "        \n",
    "def quick_sort(A,B,p,r):\n",
    "    if p<r:\n",
    "        i_ref = linked_partition(A,B,p,r)\n",
    "        i_A = partition(A, p, r, i_ref)\n",
    "        i_B = partition(B, p, r, i_ref)\n",
    "        \n",
    "        if i_A != i_B:\n",
    "            return print('error')\n",
    "        \n",
    "        quick_sort(A, B, p, i_A-1)\n",
    "        quick_sort(A, B, i_A+1, r)"
   ]
  },
  {
   "cell_type": "markdown",
   "metadata": {},
   "source": [
    "# Test\n",
    "\n",
    "For the sake of simplicity and test"
   ]
  },
  {
   "cell_type": "code",
   "execution_count": 24,
   "metadata": {},
   "outputs": [],
   "source": [
    "listA=[6,7,3,5,2,4]\n",
    "listB=[3,4,2,5,7,6]"
   ]
  },
  {
   "cell_type": "markdown",
   "metadata": {},
   "source": [
    "## test brute-force method"
   ]
  },
  {
   "cell_type": "code",
   "execution_count": 25,
   "metadata": {},
   "outputs": [
    {
     "name": "stdout",
     "output_type": "stream",
     "text": [
      "[6, 7, 3, 5, 2, 4] [3, 4, 2, 5, 7, 6]\n"
     ]
    }
   ],
   "source": [
    "print(listA, listB)"
   ]
  },
  {
   "cell_type": "code",
   "execution_count": 26,
   "metadata": {},
   "outputs": [],
   "source": [
    "solve = Solution()"
   ]
  },
  {
   "cell_type": "code",
   "execution_count": 27,
   "metadata": {},
   "outputs": [
    {
     "data": {
      "text/plain": [
       "([2, 3, 4, 5, 6, 7], [2, 3, 4, 5, 6, 7])"
      ]
     },
     "execution_count": 27,
     "metadata": {},
     "output_type": "execute_result"
    }
   ],
   "source": [
    "solve.Sort_List(listA,listB)"
   ]
  },
  {
   "cell_type": "markdown",
   "metadata": {},
   "source": [
    "## test quick_sort"
   ]
  },
  {
   "cell_type": "code",
   "execution_count": 28,
   "metadata": {},
   "outputs": [
    {
     "name": "stdout",
     "output_type": "stream",
     "text": [
      "[6, 7, 3, 5, 2, 4] [3, 4, 2, 5, 7, 6]\n"
     ]
    }
   ],
   "source": [
    "print(listA, listB)"
   ]
  },
  {
   "cell_type": "code",
   "execution_count": 29,
   "metadata": {},
   "outputs": [],
   "source": [
    "quick_sort(listA,listB,0,len(listA)-1)"
   ]
  },
  {
   "cell_type": "code",
   "execution_count": 30,
   "metadata": {},
   "outputs": [
    {
     "name": "stdout",
     "output_type": "stream",
     "text": [
      "[2, 3, 4, 5, 6, 7] [2, 3, 4, 5, 6, 7]\n"
     ]
    }
   ],
   "source": [
    "print(listA, listB)"
   ]
  },
  {
   "cell_type": "code",
   "execution_count": null,
   "metadata": {},
   "outputs": [],
   "source": []
  }
 ],
 "metadata": {
  "kernelspec": {
   "display_name": "Python 3",
   "language": "python",
   "name": "python3"
  },
  "language_info": {
   "codemirror_mode": {
    "name": "ipython",
    "version": 3
   },
   "file_extension": ".py",
   "mimetype": "text/x-python",
   "name": "python",
   "nbconvert_exporter": "python",
   "pygments_lexer": "ipython3",
   "version": "3.6.5"
  },
  "toc": {
   "base_numbering": 1,
   "nav_menu": {},
   "number_sections": true,
   "sideBar": true,
   "skip_h1_title": false,
   "title_cell": "Table of Contents",
   "title_sidebar": "Contents",
   "toc_cell": false,
   "toc_position": {},
   "toc_section_display": true,
   "toc_window_display": false
  },
  "varInspector": {
   "cols": {
    "lenName": 16,
    "lenType": 16,
    "lenVar": 40
   },
   "kernels_config": {
    "python": {
     "delete_cmd_postfix": "",
     "delete_cmd_prefix": "del ",
     "library": "var_list.py",
     "varRefreshCmd": "print(var_dic_list())"
    },
    "r": {
     "delete_cmd_postfix": ") ",
     "delete_cmd_prefix": "rm(",
     "library": "var_list.r",
     "varRefreshCmd": "cat(var_dic_list()) "
    }
   },
   "types_to_exclude": [
    "module",
    "function",
    "builtin_function_or_method",
    "instance",
    "_Feature"
   ],
   "window_display": false
  }
 },
 "nbformat": 4,
 "nbformat_minor": 2
}
