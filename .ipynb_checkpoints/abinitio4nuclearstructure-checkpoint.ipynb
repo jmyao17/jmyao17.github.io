{
 "cells": [
  {
   "cell_type": "markdown",
   "metadata": {},
   "source": [
    "# References"
   ]
  },
  {
   "cell_type": "markdown",
   "metadata": {},
   "source": [
    "## Nuclear interactions"
   ]
  },
  {
   "cell_type": "markdown",
   "metadata": {},
   "source": [
    "- [Modern Theory of Nuclear Forces](https://doi.org/10.1103/RevModPhys.81.1773) - Epelbaum, Evgeny et al. Rev.Mod.Phys. 81 (2009) 1773-1825 arXiv:0811.1338 [nucl-th] HISKP-TH-08-18, FZJ-IKP-TH-2008-20"
   ]
  },
  {
   "cell_type": "markdown",
   "metadata": {},
   "source": [
    "## Many-Body Methods"
   ]
  },
  {
   "cell_type": "markdown",
   "metadata": {},
   "source": [
    "### NCSM\n",
    "\n",
    "- [Ab initio no core shell model](https://www.sciencedirect.com/science/article/pii/S0146641012001184?via%3Dihub) - Barrett, Bruce R. et al. Prog.Part.Nucl.Phys. 69 (2013) 131-181\n",
    "\n",
    "- [Symmetry-guided large-scale shell-model theory](https://www.sciencedirect.com/science/article/pii/S0146641016000338?via%3Dihub) - Launey, Kristina D. et al. Prog.Part.Nucl.Phys. 89 (2016) 101 arXiv:1612.04298 [nucl-th]"
   ]
  },
  {
   "cell_type": "code",
   "execution_count": null,
   "metadata": {},
   "outputs": [],
   "source": []
  },
  {
   "cell_type": "markdown",
   "metadata": {},
   "source": [
    "### Monte-Carlo\n",
    "\n",
    "#### Quantum MC\n",
    "\n",
    "- [Quantum Monte Carlo calculations of light nuclei](https://doi.org/10.1146/annurev.nucl.51.101701.132506) - Pieper, Steven C. et al. Ann.Rev.Nucl.Part.Sci. 51 (2001) 53-90 nucl-th/0103005\n",
    "\n",
    "\n",
    "- [Quantum Monte Carlo methods for nuclear physics](https://doi.org/10.1103/RevModPhys.87.1067) - Carlson, J. et al. Rev.Mod.Phys. 87 (2015) 1067 arXiv:1412.3081 [nucl-th] LA-UR-14-29251, JLAB-THY-14-1989"
   ]
  },
  {
   "cell_type": "markdown",
   "metadata": {},
   "source": [
    "#### Lattice MC (Nuclear Lattice Effective Field Theory)"
   ]
  },
  {
   "cell_type": "markdown",
   "metadata": {},
   "source": [
    "- [Lattice simulations for few- and many-body systems](https://www.sciencedirect.com/science/article/pii/S014664100800094X?via%3Dihub) - Dean Lee, Prog.Part.Nucl.Phys. 63 (2009) 117-154 arXiv:0804.3501 [nucl-th]"
   ]
  },
  {
   "cell_type": "markdown",
   "metadata": {},
   "source": [
    "### IMSRG\n",
    "\n",
    "- [The In-Medium Similarity Renormalization Group: A Novel Ab Initio Method for Nuclei](https://www.sciencedirect.com/science/article/pii/S0370157315005414?via%3Dihub) - Hergert, H. et al. Phys.Rept. 621 (2016) 165-222 arXiv:1512.06956 [nucl-th]\n",
    "\n",
    "#### MR-IMSRG\n",
    "\n",
    "\n",
    "- [𝐴𝑏 𝐼𝑛𝑖𝑡𝑖𝑜 Treatment of Collective Correlations and the Neutrinoless Double Beta Decay of 48Ca](https://arxiv.org/abs/1908.05424) - Yao, J.M. et al. arXiv:1908.05424 [nucl-th]\n",
    "\n"
   ]
  },
  {
   "cell_type": "markdown",
   "metadata": {},
   "source": [
    "#### Valence-space IMSRG\n",
    "\n",
    "- [Non-Empirical Interactions for the Nuclear Shell Model: An Update](https://doi.org/10.1146/annurev-nucl-101917-021120) - Stroberg, S. Ragnar et al. Ann.Rev.Nucl.Part.Sci. 69 (2019) 307-362 arXiv:1902.06154 "
   ]
  },
  {
   "cell_type": "markdown",
   "metadata": {},
   "source": [
    "### Couple-Cluster"
   ]
  },
  {
   "cell_type": "markdown",
   "metadata": {},
   "source": [
    "- [Coupled-cluster computations of atomic nuclei](https://doi.org/10.1088/0034-4885/77/9/096302) - Hagen, G. et al. Rept.Prog.Phys. 77 (2014) no.9, 096302 arXiv:1312.7872 [nucl-th]"
   ]
  },
  {
   "cell_type": "markdown",
   "metadata": {},
   "source": [
    "### SCGF\n",
    "\n",
    "-  [Ab initio computation of charge densities for Sn and Xe isotopes](https://arxiv.org/abs/2002.02214), P. Arthuis, C. Barbieri, M. Vorabbi, P. Finelli, arXiv:2002.02214 [nucl-th] (2020)\n",
    "\n",
    "- [Ab initio self-consistent Gorkov-Green's function calculations of semi-magic nuclei: Numerical implementation at second order with a two-nucleon interaction](https://doi.org/10.1103/PhysRevC.89.024323) - Soma, V. et al. Phys.Rev. C89 (2014) no.2, 024323 arXiv:1311.1989 [nucl-th]\n",
    "\n",
    "- [Ab-initio Gorkov-Green's function calculations of open-shell nuclei](https://doi.org/10.1103/PhysRevC.87.011303) - Soma, V. et al. Phys.Rev. C87 (2013) no.1, 011303 arXiv:1208.2472 [nucl-th]"
   ]
  },
  {
   "cell_type": "code",
   "execution_count": null,
   "metadata": {},
   "outputs": [],
   "source": []
  },
  {
   "cell_type": "markdown",
   "metadata": {},
   "source": [
    "### MBPT\n",
    "\n",
    "- [Many-body perturbation theories for finite nuclei](https://arxiv.org/abs/2001.10433), Alexander Tichai, Robert Roth, Thomas Duguet. Jan 28, 2020. 46 pp. e-Print: arXiv:2001.10433 [nucl-th] | PDF\n",
    "\n",
    "- [Open-Shell Nuclei from No-Core Shell Model with Perturbative Improvement](https://doi.org/10.1016/j.physletb.2018.10.029) - Tichai, Alexander et al. Phys.Lett. B786 (2018) 448-452 arXiv:1703.05664 [nucl-th]\n",
    "\n",
    "- [Ab initio nuclear many-body perturbation calculations in the Hartree-Fock basis](https://doi.org/10.1103/PhysRevC.94.014303) - Hu, Baishan et al. Phys.Rev. C94 (2016) no.1, 014303 arXiv:1604.07146 [nucl-th]"
   ]
  },
  {
   "cell_type": "markdown",
   "metadata": {},
   "source": [
    "### Hybrid models\n",
    "\n",
    "#### Gamow SM:  \n",
    "employing many-body perturbation theory (MBPT) (called nondegenerate Q-box folded-diagram renormalization) in the GHF basis, a multi-shell Hamiltonian (sd-pf shells in this work) is constructed. \n",
    "\n",
    "- [An ab-initio Gamow shell model approach with a core](https://www.sciencedirect.com/science/article/pii/S0370269320300101?via%3Dihub), B.S. Hu, Q. Wu, J.G. Li, Y.Z. Ma, Z.H. Sun, N. Michel, F.R. Xu, Jan 8, 2020 - 6 pages, Phys.Lett. B802 (2020) 135206\n",
    "\n",
    "\n",
    "#### Gamow IMSRG:\n",
    "\n",
    "- [Ab initio Gamow in-medium similarity renormalization group with resonance and continuum](https://doi.org/10.1103/PhysRevC.99.061302), B.S. Hu, Q. Wu, Z.H. Sun, F.R. Xu, Jun 23, 2019 - 22 pages, Phys.Rev. C99 (2019) no.6, 061302, e-Print: arXiv:1906.10539 [nucl-th]"
   ]
  },
  {
   "cell_type": "code",
   "execution_count": null,
   "metadata": {},
   "outputs": [],
   "source": []
  },
  {
   "cell_type": "code",
   "execution_count": null,
   "metadata": {},
   "outputs": [],
   "source": []
  }
 ],
 "metadata": {
  "kernelspec": {
   "display_name": "Python 3",
   "language": "python",
   "name": "python3"
  },
  "language_info": {
   "codemirror_mode": {
    "name": "ipython",
    "version": 3
   },
   "file_extension": ".py",
   "mimetype": "text/x-python",
   "name": "python",
   "nbconvert_exporter": "python",
   "pygments_lexer": "ipython3",
   "version": "3.6.5"
  },
  "toc": {
   "base_numbering": 1,
   "nav_menu": {},
   "number_sections": true,
   "sideBar": true,
   "skip_h1_title": false,
   "title_cell": "Table of Contents",
   "title_sidebar": "Contents",
   "toc_cell": false,
   "toc_position": {},
   "toc_section_display": true,
   "toc_window_display": true
  },
  "varInspector": {
   "cols": {
    "lenName": 16,
    "lenType": 16,
    "lenVar": 40
   },
   "kernels_config": {
    "python": {
     "delete_cmd_postfix": "",
     "delete_cmd_prefix": "del ",
     "library": "var_list.py",
     "varRefreshCmd": "print(var_dic_list())"
    },
    "r": {
     "delete_cmd_postfix": ") ",
     "delete_cmd_prefix": "rm(",
     "library": "var_list.r",
     "varRefreshCmd": "cat(var_dic_list()) "
    }
   },
   "types_to_exclude": [
    "module",
    "function",
    "builtin_function_or_method",
    "instance",
    "_Feature"
   ],
   "window_display": false
  }
 },
 "nbformat": 4,
 "nbformat_minor": 2
}
